{
  "nbformat": 4,
  "nbformat_minor": 0,
  "metadata": {
    "colab": {
      "name": "Hackerearthchallenge1.ipynb",
      "provenance": [],
      "collapsed_sections": []
    },
    "kernelspec": {
      "name": "python3",
      "display_name": "Python 3"
    },
    "accelerator": "GPU"
  },
  "cells": [
    {
      "cell_type": "code",
      "metadata": {
        "id": "6oHReiDDj5fU",
        "colab_type": "code",
        "outputId": "428a8929-0d2d-4384-afe8-8407face1068",
        "colab": {
          "base_uri": "https://localhost:8080/",
          "height": 350
        }
      },
      "source": [
        "pip install pretrainedmodels"
      ],
      "execution_count": 1,
      "outputs": [
        {
          "output_type": "stream",
          "text": [
            "Collecting pretrainedmodels\n",
            "\u001b[?25l  Downloading https://files.pythonhosted.org/packages/84/0e/be6a0e58447ac16c938799d49bfb5fb7a80ac35e137547fc6cee2c08c4cf/pretrainedmodels-0.7.4.tar.gz (58kB)\n",
            "\r\u001b[K     |█████▋                          | 10kB 23.3MB/s eta 0:00:01\r\u001b[K     |███████████▏                    | 20kB 2.1MB/s eta 0:00:01\r\u001b[K     |████████████████▊               | 30kB 3.1MB/s eta 0:00:01\r\u001b[K     |██████████████████████▎         | 40kB 2.0MB/s eta 0:00:01\r\u001b[K     |███████████████████████████▉    | 51kB 2.5MB/s eta 0:00:01\r\u001b[K     |████████████████████████████████| 61kB 2.3MB/s \n",
            "\u001b[?25hRequirement already satisfied: torch in /usr/local/lib/python3.6/dist-packages (from pretrainedmodels) (1.4.0)\n",
            "Requirement already satisfied: torchvision in /usr/local/lib/python3.6/dist-packages (from pretrainedmodels) (0.5.0)\n",
            "Collecting munch\n",
            "  Downloading https://files.pythonhosted.org/packages/cc/ab/85d8da5c9a45e072301beb37ad7f833cd344e04c817d97e0cc75681d248f/munch-2.5.0-py2.py3-none-any.whl\n",
            "Requirement already satisfied: tqdm in /usr/local/lib/python3.6/dist-packages (from pretrainedmodels) (4.28.1)\n",
            "Requirement already satisfied: six in /usr/local/lib/python3.6/dist-packages (from torchvision->pretrainedmodels) (1.12.0)\n",
            "Requirement already satisfied: numpy in /usr/local/lib/python3.6/dist-packages (from torchvision->pretrainedmodels) (1.17.5)\n",
            "Requirement already satisfied: pillow>=4.1.1 in /usr/local/lib/python3.6/dist-packages (from torchvision->pretrainedmodels) (6.2.2)\n",
            "Building wheels for collected packages: pretrainedmodels\n",
            "  Building wheel for pretrainedmodels (setup.py) ... \u001b[?25l\u001b[?25hdone\n",
            "  Created wheel for pretrainedmodels: filename=pretrainedmodels-0.7.4-cp36-none-any.whl size=60962 sha256=66652033cb0377a648a19acf1dc0d5054543d03b20260bc32c05ba1608d35233\n",
            "  Stored in directory: /root/.cache/pip/wheels/69/df/63/62583c096289713f22db605aa2334de5b591d59861a02c2ecd\n",
            "Successfully built pretrainedmodels\n",
            "Installing collected packages: munch, pretrainedmodels\n",
            "Successfully installed munch-2.5.0 pretrainedmodels-0.7.4\n"
          ],
          "name": "stdout"
        }
      ]
    },
    {
      "cell_type": "code",
      "metadata": {
        "id": "56LQ5mwp_ALd",
        "colab_type": "code",
        "outputId": "2eb0cacd-759f-449d-fa96-6b9e083892d0",
        "colab": {
          "base_uri": "https://localhost:8080/",
          "height": 86
        }
      },
      "source": [
        "pip install utils"
      ],
      "execution_count": 2,
      "outputs": [
        {
          "output_type": "stream",
          "text": [
            "Collecting utils\n",
            "  Downloading https://files.pythonhosted.org/packages/55/e6/c2d2b2703e7debc8b501caae0e6f7ead148fd0faa3c8131292a599930029/utils-1.0.1-py2.py3-none-any.whl\n",
            "Installing collected packages: utils\n",
            "Successfully installed utils-1.0.1\n"
          ],
          "name": "stdout"
        }
      ]
    },
    {
      "cell_type": "code",
      "metadata": {
        "id": "WxUeUHN-j6KY",
        "colab_type": "code",
        "outputId": "19a60d9a-370b-4c7e-85c5-04097c67d43e",
        "colab": {
          "base_uri": "https://localhost:8080/",
          "height": 34
        }
      },
      "source": [
        "from torchvision.models import *\n",
        "import pretrainedmodels\n",
        "\n",
        "from fastai import *\n",
        "from fastai.vision import *\n",
        "from fastai.vision.models import *\n",
        "from fastai.vision.learner import model_meta\n",
        "import fastai\n",
        "\n",
        "from utils import *\n",
        "import sys\n",
        "import torch\n",
        "fastai.__version__"
      ],
      "execution_count": 3,
      "outputs": [
        {
          "output_type": "execute_result",
          "data": {
            "text/plain": [
              "'1.0.60'"
            ]
          },
          "metadata": {
            "tags": []
          },
          "execution_count": 3
        }
      ]
    },
    {
      "cell_type": "code",
      "metadata": {
        "id": "nSpsHNnzzg8g",
        "colab_type": "code",
        "colab": {}
      },
      "source": [
        "from pathlib import Path\n",
        "\n",
        "from fastai.callbacks.hooks import *"
      ],
      "execution_count": 0,
      "outputs": []
    },
    {
      "cell_type": "code",
      "metadata": {
        "id": "BzS_iVLEkB26",
        "colab_type": "code",
        "outputId": "28fbb930-4152-47f0-e9b7-60a6f3441321",
        "colab": {
          "base_uri": "https://localhost:8080/",
          "height": 86
        }
      },
      "source": [
        "pip install utils"
      ],
      "execution_count": 0,
      "outputs": [
        {
          "output_type": "stream",
          "text": [
            "Collecting utils\n",
            "  Downloading https://files.pythonhosted.org/packages/55/e6/c2d2b2703e7debc8b501caae0e6f7ead148fd0faa3c8131292a599930029/utils-1.0.1-py2.py3-none-any.whl\n",
            "Installing collected packages: utils\n",
            "Successfully installed utils-1.0.1\n"
          ],
          "name": "stdout"
        }
      ]
    },
    {
      "cell_type": "code",
      "metadata": {
        "id": "OMQMmE2xkImG",
        "colab_type": "code",
        "outputId": "890aac05-abae-4cc3-d930-735700a266b4",
        "colab": {
          "base_uri": "https://localhost:8080/",
          "height": 34
        }
      },
      "source": [
        "\n",
        "\n",
        "torch.__version__\n",
        "\n"
      ],
      "execution_count": 0,
      "outputs": [
        {
          "output_type": "execute_result",
          "data": {
            "text/plain": [
              "'1.4.0'"
            ]
          },
          "metadata": {
            "tags": []
          },
          "execution_count": 5
        }
      ]
    },
    {
      "cell_type": "code",
      "metadata": {
        "id": "BLU4tmfekNvi",
        "colab_type": "code",
        "outputId": "555fc2ba-95d1-412a-e4c6-f8fc25ab8a1e",
        "colab": {
          "resources": {
            "http://localhost:8080/nbextensions/google.colab/files.js": {
              "data": "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",
              "ok": true,
              "headers": [
                [
                  "content-type",
                  "application/javascript"
                ]
              ],
              "status": 200,
              "status_text": "OK"
            }
          },
          "base_uri": "https://localhost:8080/",
          "height": 85
        }
      },
      "source": [
        "from google.colab import files\n",
        "uploaded = files.upload()"
      ],
      "execution_count": 5,
      "outputs": [
        {
          "output_type": "display_data",
          "data": {
            "text/html": [
              "\n",
              "     <input type=\"file\" id=\"files-c7f63f78-1cb8-4137-8755-d6e89cb36bbf\" name=\"files[]\" multiple disabled />\n",
              "     <output id=\"result-c7f63f78-1cb8-4137-8755-d6e89cb36bbf\">\n",
              "      Upload widget is only available when the cell has been executed in the\n",
              "      current browser session. Please rerun this cell to enable.\n",
              "      </output>\n",
              "      <script src=\"/nbextensions/google.colab/files.js\"></script> "
            ],
            "text/plain": [
              "<IPython.core.display.HTML object>"
            ]
          },
          "metadata": {
            "tags": []
          }
        },
        {
          "output_type": "stream",
          "text": [
            "Saving 934462453e311ea.zip to 934462453e311ea.zip\n"
          ],
          "name": "stdout"
        }
      ]
    },
    {
      "cell_type": "code",
      "metadata": {
        "id": "TTeGzKZklPy1",
        "colab_type": "code",
        "colab": {}
      },
      "source": [
        "from google.colab import files\n",
        "#uploaded = files.upload()"
      ],
      "execution_count": 0,
      "outputs": []
    },
    {
      "cell_type": "markdown",
      "metadata": {
        "id": "56HVaBkbwVw-",
        "colab_type": "text"
      },
      "source": [
        "# New Section"
      ]
    },
    {
      "cell_type": "code",
      "metadata": {
        "id": "5kItP0VnkfaL",
        "colab_type": "code",
        "colab": {}
      },
      "source": [
        "import zipfile\n",
        "import io\n",
        "data = zipfile.ZipFile(io.BytesIO(uploaded['934462453e311ea.zip']), 'r')\n",
        "data.extractall()"
      ],
      "execution_count": 0,
      "outputs": []
    },
    {
      "cell_type": "code",
      "metadata": {
        "id": "y5zBlDo9nBRZ",
        "colab_type": "code",
        "colab": {}
      },
      "source": [
        "path = 'dataset'\n",
        "train_data_dir = 'dataset/Train Images' \n",
        "test_data_dir = 'dataset/Test Images' "
      ],
      "execution_count": 0,
      "outputs": []
    },
    {
      "cell_type": "code",
      "metadata": {
        "id": "wYLw_ybT3iOw",
        "colab_type": "code",
        "colab": {}
      },
      "source": [
        "import pandas as pd"
      ],
      "execution_count": 0,
      "outputs": []
    },
    {
      "cell_type": "code",
      "metadata": {
        "id": "Bd0MVeaSnELV",
        "colab_type": "code",
        "colab": {}
      },
      "source": [
        "df = pd.read_csv('dataset/train.csv')"
      ],
      "execution_count": 0,
      "outputs": []
    },
    {
      "cell_type": "code",
      "metadata": {
        "id": "inEl87m5nqV5",
        "colab_type": "code",
        "colab": {}
      },
      "source": [
        "test =  pd.read_csv('dataset/test.csv')"
      ],
      "execution_count": 0,
      "outputs": []
    },
    {
      "cell_type": "code",
      "metadata": {
        "id": "0N8_ga19nz89",
        "colab_type": "code",
        "outputId": "b3e1287e-ff43-4ae8-9288-7f4d31c4e188",
        "colab": {
          "base_uri": "https://localhost:8080/",
          "height": 206
        }
      },
      "source": [
        "df.head()"
      ],
      "execution_count": 0,
      "outputs": [
        {
          "output_type": "execute_result",
          "data": {
            "text/html": [
              "<div>\n",
              "<style scoped>\n",
              "    .dataframe tbody tr th:only-of-type {\n",
              "        vertical-align: middle;\n",
              "    }\n",
              "\n",
              "    .dataframe tbody tr th {\n",
              "        vertical-align: top;\n",
              "    }\n",
              "\n",
              "    .dataframe thead th {\n",
              "        text-align: right;\n",
              "    }\n",
              "</style>\n",
              "<table border=\"1\" class=\"dataframe\">\n",
              "  <thead>\n",
              "    <tr style=\"text-align: right;\">\n",
              "      <th></th>\n",
              "      <th>Image</th>\n",
              "      <th>Class</th>\n",
              "    </tr>\n",
              "  </thead>\n",
              "  <tbody>\n",
              "    <tr>\n",
              "      <th>0</th>\n",
              "      <td>image7042.jpg</td>\n",
              "      <td>Food</td>\n",
              "    </tr>\n",
              "    <tr>\n",
              "      <th>1</th>\n",
              "      <td>image3327.jpg</td>\n",
              "      <td>misc</td>\n",
              "    </tr>\n",
              "    <tr>\n",
              "      <th>2</th>\n",
              "      <td>image10335.jpg</td>\n",
              "      <td>Attire</td>\n",
              "    </tr>\n",
              "    <tr>\n",
              "      <th>3</th>\n",
              "      <td>image8019.jpg</td>\n",
              "      <td>Food</td>\n",
              "    </tr>\n",
              "    <tr>\n",
              "      <th>4</th>\n",
              "      <td>image2128.jpg</td>\n",
              "      <td>Attire</td>\n",
              "    </tr>\n",
              "  </tbody>\n",
              "</table>\n",
              "</div>"
            ],
            "text/plain": [
              "            Image   Class\n",
              "0   image7042.jpg    Food\n",
              "1   image3327.jpg    misc\n",
              "2  image10335.jpg  Attire\n",
              "3   image8019.jpg    Food\n",
              "4   image2128.jpg  Attire"
            ]
          },
          "metadata": {
            "tags": []
          },
          "execution_count": 15
        }
      ]
    },
    {
      "cell_type": "code",
      "metadata": {
        "id": "c_v0g-g02y7Y",
        "colab_type": "code",
        "colab": {}
      },
      "source": [
        "df2 = df"
      ],
      "execution_count": 0,
      "outputs": []
    },
    {
      "cell_type": "code",
      "metadata": {
        "id": "dWyyn5g71ZKa",
        "colab_type": "code",
        "outputId": "7127972b-c1ca-429f-fd93-cdbb8d9dcf47",
        "colab": {
          "base_uri": "https://localhost:8080/",
          "height": 206
        }
      },
      "source": [
        "df2.head()"
      ],
      "execution_count": 0,
      "outputs": [
        {
          "output_type": "execute_result",
          "data": {
            "text/html": [
              "<div>\n",
              "<style scoped>\n",
              "    .dataframe tbody tr th:only-of-type {\n",
              "        vertical-align: middle;\n",
              "    }\n",
              "\n",
              "    .dataframe tbody tr th {\n",
              "        vertical-align: top;\n",
              "    }\n",
              "\n",
              "    .dataframe thead th {\n",
              "        text-align: right;\n",
              "    }\n",
              "</style>\n",
              "<table border=\"1\" class=\"dataframe\">\n",
              "  <thead>\n",
              "    <tr style=\"text-align: right;\">\n",
              "      <th></th>\n",
              "      <th>Image</th>\n",
              "      <th>Class</th>\n",
              "    </tr>\n",
              "  </thead>\n",
              "  <tbody>\n",
              "    <tr>\n",
              "      <th>0</th>\n",
              "      <td>image7042.jpg</td>\n",
              "      <td>Food</td>\n",
              "    </tr>\n",
              "    <tr>\n",
              "      <th>1</th>\n",
              "      <td>image3327.jpg</td>\n",
              "      <td>misc</td>\n",
              "    </tr>\n",
              "    <tr>\n",
              "      <th>2</th>\n",
              "      <td>image10335.jpg</td>\n",
              "      <td>Attire</td>\n",
              "    </tr>\n",
              "    <tr>\n",
              "      <th>3</th>\n",
              "      <td>image8019.jpg</td>\n",
              "      <td>Food</td>\n",
              "    </tr>\n",
              "    <tr>\n",
              "      <th>4</th>\n",
              "      <td>image2128.jpg</td>\n",
              "      <td>Attire</td>\n",
              "    </tr>\n",
              "  </tbody>\n",
              "</table>\n",
              "</div>"
            ],
            "text/plain": [
              "            Image   Class\n",
              "0   image7042.jpg    Food\n",
              "1   image3327.jpg    misc\n",
              "2  image10335.jpg  Attire\n",
              "3   image8019.jpg    Food\n",
              "4   image2128.jpg  Attire"
            ]
          },
          "metadata": {
            "tags": []
          },
          "execution_count": 35
        }
      ]
    },
    {
      "cell_type": "code",
      "metadata": {
        "id": "mHhjiTKJ1ZGJ",
        "colab_type": "code",
        "outputId": "a3d81e6a-30a8-4e15-f6b3-223e2f7bae7a",
        "colab": {
          "base_uri": "https://localhost:8080/",
          "height": 104
        }
      },
      "source": [
        "df2['Class'].value_counts()"
      ],
      "execution_count": 0,
      "outputs": [
        {
          "output_type": "execute_result",
          "data": {
            "text/plain": [
              "Food                    2278\n",
              "Attire                  1691\n",
              "misc                    1271\n",
              "Decorationandsignage     743\n",
              "Name: Class, dtype: int64"
            ]
          },
          "metadata": {
            "tags": []
          },
          "execution_count": 36
        }
      ]
    },
    {
      "cell_type": "code",
      "metadata": {
        "id": "z9WKNNT_1ZBc",
        "colab_type": "code",
        "outputId": "7ff57f15-a8c8-4add-c4fa-56b5f4a6cf38",
        "colab": {
          "base_uri": "https://localhost:8080/",
          "height": 260
        }
      },
      "source": [
        "df2['Class'] = df2['Class'].apply({'Attire':1,'Decorationandsignage':2,'Food':3,'misc':4}.get)\n",
        "print(df2)"
      ],
      "execution_count": 0,
      "outputs": [
        {
          "output_type": "stream",
          "text": [
            "               Image  Class\n",
            "0      image7042.jpg      3\n",
            "1      image3327.jpg      4\n",
            "2     image10335.jpg      1\n",
            "3      image8019.jpg      3\n",
            "4      image2128.jpg      1\n",
            "...              ...    ...\n",
            "5978   image2494.jpg      3\n",
            "5979   image8015.jpg      1\n",
            "5980   image4975.jpg      3\n",
            "5981   image1222.jpg      3\n",
            "5982   image9635.jpg      1\n",
            "\n",
            "[5983 rows x 2 columns]\n"
          ],
          "name": "stdout"
        }
      ]
    },
    {
      "cell_type": "code",
      "metadata": {
        "id": "pOTzb-oW1Y9e",
        "colab_type": "code",
        "outputId": "b07642b5-23d6-45cf-d46b-9f97819b4651",
        "colab": {
          "base_uri": "https://localhost:8080/",
          "height": 104
        }
      },
      "source": [
        "df2['Class'].value_counts()"
      ],
      "execution_count": 0,
      "outputs": [
        {
          "output_type": "execute_result",
          "data": {
            "text/plain": [
              "3    2278\n",
              "1    1691\n",
              "4    1271\n",
              "2     743\n",
              "Name: Class, dtype: int64"
            ]
          },
          "metadata": {
            "tags": []
          },
          "execution_count": 38
        }
      ]
    },
    {
      "cell_type": "code",
      "metadata": {
        "id": "335PX5watEx1",
        "colab_type": "code",
        "colab": {}
      },
      "source": [
        "#10-03-2020"
      ],
      "execution_count": 0,
      "outputs": []
    },
    {
      "cell_type": "code",
      "metadata": {
        "id": "kgw6TkQPtEtG",
        "colab_type": "code",
        "colab": {}
      },
      "source": [
        "from PIL import Image"
      ],
      "execution_count": 0,
      "outputs": []
    },
    {
      "cell_type": "code",
      "metadata": {
        "id": "ejpt2iJBtEpE",
        "colab_type": "code",
        "colab": {
          "base_uri": "https://localhost:8080/",
          "height": 208
        },
        "outputId": "14702ecd-0639-42c0-90d7-0f2640bef677"
      },
      "source": [
        "df.head(),test.head()"
      ],
      "execution_count": 13,
      "outputs": [
        {
          "output_type": "execute_result",
          "data": {
            "text/plain": [
              "(            Image   Class\n",
              " 0   image7042.jpg    Food\n",
              " 1   image3327.jpg    misc\n",
              " 2  image10335.jpg  Attire\n",
              " 3   image8019.jpg    Food\n",
              " 4   image2128.jpg  Attire,             Image\n",
              " 0   image6245.jpg\n",
              " 1  image10409.jpg\n",
              " 2   image8692.jpg\n",
              " 3  image10517.jpg\n",
              " 4   image2580.jpg)"
            ]
          },
          "metadata": {
            "tags": []
          },
          "execution_count": 13
        }
      ]
    },
    {
      "cell_type": "code",
      "metadata": {
        "id": "GVb0VFxxy0vv",
        "colab_type": "code",
        "colab": {}
      },
      "source": [
        "df2 = pd.read_csv('dataset/train.csv')"
      ],
      "execution_count": 0,
      "outputs": []
    },
    {
      "cell_type": "code",
      "metadata": {
        "id": "zg6WTc_Zzlgq",
        "colab_type": "code",
        "colab": {
          "base_uri": "https://localhost:8080/",
          "height": 206
        },
        "outputId": "7e581358-f73b-4757-e945-8c7f42667cd8"
      },
      "source": [
        "df2.head()"
      ],
      "execution_count": 35,
      "outputs": [
        {
          "output_type": "execute_result",
          "data": {
            "text/html": [
              "<div>\n",
              "<style scoped>\n",
              "    .dataframe tbody tr th:only-of-type {\n",
              "        vertical-align: middle;\n",
              "    }\n",
              "\n",
              "    .dataframe tbody tr th {\n",
              "        vertical-align: top;\n",
              "    }\n",
              "\n",
              "    .dataframe thead th {\n",
              "        text-align: right;\n",
              "    }\n",
              "</style>\n",
              "<table border=\"1\" class=\"dataframe\">\n",
              "  <thead>\n",
              "    <tr style=\"text-align: right;\">\n",
              "      <th></th>\n",
              "      <th>Image</th>\n",
              "      <th>Class</th>\n",
              "    </tr>\n",
              "  </thead>\n",
              "  <tbody>\n",
              "    <tr>\n",
              "      <th>0</th>\n",
              "      <td>image7042.jpg</td>\n",
              "      <td>Food</td>\n",
              "    </tr>\n",
              "    <tr>\n",
              "      <th>1</th>\n",
              "      <td>image3327.jpg</td>\n",
              "      <td>misc</td>\n",
              "    </tr>\n",
              "    <tr>\n",
              "      <th>2</th>\n",
              "      <td>image10335.jpg</td>\n",
              "      <td>Attire</td>\n",
              "    </tr>\n",
              "    <tr>\n",
              "      <th>3</th>\n",
              "      <td>image8019.jpg</td>\n",
              "      <td>Food</td>\n",
              "    </tr>\n",
              "    <tr>\n",
              "      <th>4</th>\n",
              "      <td>image2128.jpg</td>\n",
              "      <td>Attire</td>\n",
              "    </tr>\n",
              "  </tbody>\n",
              "</table>\n",
              "</div>"
            ],
            "text/plain": [
              "            Image   Class\n",
              "0   image7042.jpg    Food\n",
              "1   image3327.jpg    misc\n",
              "2  image10335.jpg  Attire\n",
              "3   image8019.jpg    Food\n",
              "4   image2128.jpg  Attire"
            ]
          },
          "metadata": {
            "tags": []
          },
          "execution_count": 35
        }
      ]
    },
    {
      "cell_type": "code",
      "metadata": {
        "id": "OdoHw3Kuyw5k",
        "colab_type": "code",
        "colab": {
          "base_uri": "https://localhost:8080/",
          "height": 260
        },
        "outputId": "5e61b5e2-6ddd-4078-b8cc-e20d1bb9cc98"
      },
      "source": [
        "df2['Class'] = df2['Class'].apply({'Attire':1,'Decorationandsignage':2,'Food':3,'misc':4}.get)\n",
        "print(df2)"
      ],
      "execution_count": 36,
      "outputs": [
        {
          "output_type": "stream",
          "text": [
            "               Image  Class\n",
            "0      image7042.jpg      3\n",
            "1      image3327.jpg      4\n",
            "2     image10335.jpg      1\n",
            "3      image8019.jpg      3\n",
            "4      image2128.jpg      1\n",
            "...              ...    ...\n",
            "5978   image2494.jpg      3\n",
            "5979   image8015.jpg      1\n",
            "5980   image4975.jpg      3\n",
            "5981   image1222.jpg      3\n",
            "5982   image9635.jpg      1\n",
            "\n",
            "[5983 rows x 2 columns]\n"
          ],
          "name": "stdout"
        }
      ]
    },
    {
      "cell_type": "code",
      "metadata": {
        "id": "Vv20dMyWtElI",
        "colab_type": "code",
        "colab": {
          "base_uri": "https://localhost:8080/",
          "height": 52
        },
        "outputId": "d5189526-df1c-47d5-e92a-b1477c33bca9"
      },
      "source": [
        "train_images=np.array(df.iloc[:,0])\n",
        "train_images"
      ],
      "execution_count": 37,
      "outputs": [
        {
          "output_type": "execute_result",
          "data": {
            "text/plain": [
              "array(['image7042.jpg', 'image3327.jpg', 'image10335.jpg', 'image8019.jpg', ..., 'image8015.jpg', 'image4975.jpg',\n",
              "       'image1222.jpg', 'image9635.jpg'], dtype=object)"
            ]
          },
          "metadata": {
            "tags": []
          },
          "execution_count": 37
        }
      ]
    },
    {
      "cell_type": "code",
      "metadata": {
        "id": "c7YhIRMWtEgu",
        "colab_type": "code",
        "colab": {}
      },
      "source": [
        "train_data_dir ='dataset/Train Images/'"
      ],
      "execution_count": 0,
      "outputs": []
    },
    {
      "cell_type": "code",
      "metadata": {
        "id": "S9liZscHtEci",
        "colab_type": "code",
        "colab": {}
      },
      "source": [
        "train_images=np.array(df2.iloc[:,0])\n",
        "imagearr=[]\n",
        "for i in train_images:\n",
        "    img=Image.open(train_data_dir+i).convert('L')\n",
        "    img=img.resize((150,150),Image.ANTIALIAS)\n",
        "    imagearr.append(np.array(img))"
      ],
      "execution_count": 0,
      "outputs": []
    },
    {
      "cell_type": "code",
      "metadata": {
        "id": "fecUTn8EtEYG",
        "colab_type": "code",
        "colab": {
          "base_uri": "https://localhost:8080/",
          "height": 173
        },
        "outputId": "4c7b1139-4be4-46f8-a507-f382899cfb56"
      },
      "source": [
        "imagearr[0]"
      ],
      "execution_count": 60,
      "outputs": [
        {
          "output_type": "execute_result",
          "data": {
            "text/plain": [
              "array([[48, 48, 49, 51, ..., 51, 49, 48, 48],\n",
              "       [50, 50, 51, 53, ..., 52, 50, 49, 49],\n",
              "       [53, 53, 54, 56, ..., 55, 53, 52, 51],\n",
              "       [56, 56, 58, 59, ..., 56, 54, 53, 53],\n",
              "       ...,\n",
              "       [24, 24, 24, 24, ..., 20, 20, 19, 19],\n",
              "       [23, 23, 23, 23, ..., 19, 20, 19, 19],\n",
              "       [23, 23, 23, 23, ..., 19, 19, 18, 18],\n",
              "       [22, 22, 22, 22, ..., 19, 18, 17, 17]], dtype=uint8)"
            ]
          },
          "metadata": {
            "tags": []
          },
          "execution_count": 60
        }
      ]
    },
    {
      "cell_type": "code",
      "metadata": {
        "id": "J65Dxi_3tETn",
        "colab_type": "code",
        "colab": {
          "base_uri": "https://localhost:8080/",
          "height": 304
        },
        "outputId": "f875ef86-a1dc-4daa-eb11-4261e2adc364"
      },
      "source": [
        "trainImages = np.array([i for i in imagearr]).reshape(-1,150, 150, 1)\n",
        "print(trainImages.shape)\n",
        "plt.imshow(np.asarray(imagearr)[4])\n"
      ],
      "execution_count": 62,
      "outputs": [
        {
          "output_type": "stream",
          "text": [
            "(5983, 150, 150, 1)\n"
          ],
          "name": "stdout"
        },
        {
          "output_type": "execute_result",
          "data": {
            "text/plain": [
              "<matplotlib.image.AxesImage at 0x7f72da8eb2b0>"
            ]
          },
          "metadata": {
            "tags": []
          },
          "execution_count": 62
        },
        {
          "output_type": "display_data",
          "data": {
            "image/png": "[encoded data removed]",
            "text/plain": [
              "<Figure size 432x288 with 1 Axes>"
            ]
          },
          "metadata": {
            "tags": []
          }
        }
      ]
    },
    {
      "cell_type": "code",
      "metadata": {
        "id": "aMRBB9NvtEOG",
        "colab_type": "code",
        "colab": {}
      },
      "source": [
        "img_dir='dataset/Test Images/'\n",
        "test_images=np.array(test.iloc[:,0])\n",
        "imagearr=[]\n",
        "for i in test_images:\n",
        "    img=Image.open(img_dir+i).convert('L')\n",
        "    img=img.resize((150,150),Image.ANTIALIAS)\n",
        "    imagearr.append(np.array(img))"
      ],
      "execution_count": 0,
      "outputs": []
    },
    {
      "cell_type": "code",
      "metadata": {
        "id": "XL34W0f1tEIo",
        "colab_type": "code",
        "colab": {
          "base_uri": "https://localhost:8080/",
          "height": 34
        },
        "outputId": "b6cf48c8-711b-4060-980d-aadd198066f6"
      },
      "source": [
        "# np.asarray(imagearr)\n",
        "testImages = np.array([i for i in imagearr]).reshape(-1,150, 150, 1)\n",
        "print(testImages.shape)\n",
        "\n"
      ],
      "execution_count": 64,
      "outputs": [
        {
          "output_type": "stream",
          "text": [
            "(3219, 150, 150, 1)\n"
          ],
          "name": "stdout"
        }
      ]
    },
    {
      "cell_type": "code",
      "metadata": {
        "id": "cX9BOhICyVGr",
        "colab_type": "code",
        "colab": {
          "base_uri": "https://localhost:8080/",
          "height": 34
        },
        "outputId": "cdae6e73-26e5-4e90-f97c-4d19e088419b"
      },
      "source": [
        "df2['Class'].values"
      ],
      "execution_count": 65,
      "outputs": [
        {
          "output_type": "execute_result",
          "data": {
            "text/plain": [
              "array([3, 4, 1, 3, ..., 1, 3, 3, 1])"
            ]
          },
          "metadata": {
            "tags": []
          },
          "execution_count": 65
        }
      ]
    },
    {
      "cell_type": "code",
      "metadata": {
        "id": "LqiUjrBQtD-V",
        "colab_type": "code",
        "colab": {}
      },
      "source": [
        "trainLabels = df2['Class'].values\n",
        "from keras.utils import np_utils\n",
        "trainLabels.shape\n",
        "trainLabels = np_utils.to_categorical(trainLabels)model.compile(loss='categorical_crossentropy', optimizer='rmsprop', metrics = ['accuracy'])\n",
        "\n"
      ],
      "execution_count": 0,
      "outputs": []
    },
    {
      "cell_type": "code",
      "metadata": {
        "id": "BMUh7n5g01h3",
        "colab_type": "code",
        "colab": {
          "base_uri": "https://localhost:8080/",
          "height": 173
        },
        "outputId": "16e3bdea-d822-4a8e-e96a-bd21c56cfe4f"
      },
      "source": [
        "trainLabelsmodel.compile(loss='categorical_crossentropy', optimizer='rmsprop', metrics = ['accuracy'])\n"
      ],
      "execution_count": 67,
      "outputs": [
        {
          "output_type": "execute_result",
          "data": {
            "text/plain": [
              "array([[0., 0., 0., 1., 0.],\n",
              "       [0., 0., 0., 0., 1.],\n",
              "       [0., 1., 0., 0., 0.],\n",
              "       [0., 0., 0., 1., 0.],\n",
              "       ...,\n",
              "       [0., 1., 0., 0., 0.],\n",
              "       [0., 0., 0., 1., 0.],\n",
              "       [0., 0., 0., 1., 0.],\n",
              "       [0., 1., 0., 0., 0.]], dtype=float32)"
            ]
          },
          "metadata": {
            "tags": []
          },
          "execution_count": 67
        }
      ]
    },
    {
      "cell_type": "code",
      "metadata": {
        "id": "-xYLMoQGyaH5",
        "colab_type": "code",
        "colab": {}
      },
      "source": [
        "\n",
        "\n",
        "import keras\n",
        "from keras.models import Sequential\n",
        "from keras.layers import Dense, Dropout, Flatten\n",
        "from keras.layers import Conv2D, MaxPooling2D\n",
        "from keras.layers. normalization import BatchNormalization\n",
        "import numpy as np\n",
        "\n"
      ],
      "execution_count": 0,
      "outputs": []
    },
    {
      "cell_type": "code",
      "metadata": {
        "id": "K7mYwh820TXx",
        "colab_type": "code",
        "colab": {}
      },
      "source": [
        "model = Sequential()\n",
        "model.add(Conv2D(32, kernel_size = (5, 5), activation='relu', input_shape=(150, 150, 1)))\n",
        "model.add(MaxPooling2D(pool_size=(2,2)))\n",
        "model.add(BatchNormalization())\n",
        "model.add(Conv2D(64, kernel_size=(4,4), activation='relu'))\n",
        "model.add(MaxPooling2D(pool_size=(2,2)))\n",
        "model.add(BatchNormalization())\n",
        "model.add(Conv2D(128, kernel_size=(3,3), activation='relu'))\n",
        "model.add(MaxPooling2D(pool_size=(2,2)))\n",
        "model.add(BatchNormalization())\n",
        "model.add(Conv2D(64, kernel_size=(3,3), activation='relu'))\n",
        "model.add(MaxPooling2D(pool_size=(2,2)))\n",
        "model.add(BatchNormalization())\n",
        "model.add(Conv2D(64, kernel_size=(3,3), activation='relu'))\n",
        "model.add(MaxPooling2D(pool_size=(2,2)))\n",
        "model.add(BatchNormalization())\n",
        "model.add(Dropout(0.2))\n",
        "model.add(Flatten())\n",
        "model.add(Dense(256, activation='relu'))\n",
        "model.add(Dropout(0.2))\n",
        "model.add(Dense(128, activation='sigmoid'))\n",
        "model.add(Dropout(0.3))\n",
        "model.add(Dense(5, activation = 'softmax'))\n",
        "\n",
        "\n"
      ],
      "execution_count": 0,
      "outputs": []
    },
    {
      "cell_type": "code",
      "metadata": {
        "id": "VKvOYole3w2K",
        "colab_type": "code",
        "colab": {
          "base_uri": "https://localhost:8080/",
          "height": 920
        },
        "outputId": "587c49a3-60c0-4a87-9615-3a7c363c79fb"
      },
      "source": [
        "model.summary()"
      ],
      "execution_count": 77,
      "outputs": [
        {
          "output_type": "stream",
          "text": [
            "Model: \"sequential_4\"\n",
            "_________________________________________________________________\n",
            "Layer (type)                 Output Shape              Param #   \n",
            "=================================================================\n",
            "conv2d_16 (Conv2D)           (None, 146, 146, 32)      832       \n",
            "_________________________________________________________________\n",
            "max_pooling2d_16 (MaxPooling (None, 73, 73, 32)        0         \n",
            "_________________________________________________________________\n",
            "batch_normalization_16 (Batc (None, 73, 73, 32)        128       \n",
            "_________________________________________________________________\n",
            "conv2d_17 (Conv2D)           (None, 70, 70, 64)        32832     \n",
            "_________________________________________________________________\n",
            "max_pooling2d_17 (MaxPooling (None, 35, 35, 64)        0         \n",
            "_________________________________________________________________\n",
            "batch_normalization_17 (Batc (None, 35, 35, 64)        256       \n",
            "_________________________________________________________________\n",
            "conv2d_18 (Conv2D)           (None, 33, 33, 128)       73856     \n",
            "_________________________________________________________________\n",
            "max_pooling2d_18 (MaxPooling (None, 16, 16, 128)       0         \n",
            "_________________________________________________________________\n",
            "batch_normalization_18 (Batc (None, 16, 16, 128)       512       \n",
            "_________________________________________________________________\n",
            "conv2d_19 (Conv2D)           (None, 14, 14, 64)        73792     \n",
            "_________________________________________________________________\n",
            "max_pooling2d_19 (MaxPooling (None, 7, 7, 64)          0         \n",
            "_________________________________________________________________\n",
            "batch_normalization_19 (Batc (None, 7, 7, 64)          256       \n",
            "_________________________________________________________________\n",
            "conv2d_20 (Conv2D)           (None, 5, 5, 64)          36928     \n",
            "_________________________________________________________________\n",
            "max_pooling2d_20 (MaxPooling (None, 2, 2, 64)          0         \n",
            "_________________________________________________________________\n",
            "batch_normalization_20 (Batc (None, 2, 2, 64)          256       \n",
            "_________________________________________________________________\n",
            "dropout_10 (Dropout)         (None, 2, 2, 64)          0         \n",
            "_________________________________________________________________\n",
            "flatten_4 (Flatten)          (None, 256)               0         \n",
            "_________________________________________________________________\n",
            "dense_10 (Dense)             (None, 256)               65792     \n",
            "_________________________________________________________________\n",
            "dropout_11 (Dropout)         (None, 256)               0         \n",
            "_________________________________________________________________\n",
            "dense_11 (Dense)             (None, 128)               32896     \n",
            "_________________________________________________________________\n",
            "dropout_12 (Dropout)         (None, 128)               0         \n",
            "_________________________________________________________________\n",
            "dense_12 (Dense)             (None, 5)                 645       \n",
            "=================================================================\n",
            "Total params: 318,981\n",
            "Trainable params: 318,277\n",
            "Non-trainable params: 704\n",
            "_________________________________________________________________\n"
          ],
          "name": "stdout"
        }
      ]
    },
    {
      "cell_type": "code",
      "metadata": {
        "id": "p_3Xb4u00WDB",
        "colab_type": "code",
        "colab": {}
      },
      "source": [
        "model.compile(loss='categorical_crossentropy', optimizer='rmsprop', metrics = ['accuracy'])\n"
      ],
      "execution_count": 0,
      "outputs": []
    },
    {
      "cell_type": "code",
      "metadata": {
        "id": "4Hcq5nHD0dP5",
        "colab_type": "code",
        "colab": {
          "base_uri": "https://localhost:8080/",
          "height": 1000
        },
        "outputId": "478f3853-7ac3-4f99-b244-cc58ef57e20e"
      },
      "source": [
        "model.fit(trainImages, trainLabels, batch_size = 100, epochs = 100, verbose = 1)"
      ],
      "execution_count": 79,
      "outputs": [
        {
          "output_type": "stream",
          "text": [
            "WARNING:tensorflow:From /usr/local/lib/python3.6/dist-packages/tensorflow_core/python/ops/math_grad.py:1424: where (from tensorflow.python.ops.array_ops) is deprecated and will be removed in a future version.\n",
            "Instructions for updating:\n",
            "Use tf.where in 2.0, which has the same broadcast rule as np.where\n",
            "WARNING:tensorflow:From /usr/local/lib/python3.6/dist-packages/keras/backend/tensorflow_backend.py:1033: The name tf.assign_add is deprecated. Please use tf.compat.v1.assign_add instead.\n",
            "\n",
            "WARNING:tensorflow:From /usr/local/lib/python3.6/dist-packages/keras/backend/tensorflow_backend.py:1020: The name tf.assign is deprecated. Please use tf.compat.v1.assign instead.\n",
            "\n",
            "Epoch 1/100\n",
            "5983/5983 [==============================] - 15s 2ms/step - loss: 1.3322 - acc: 0.3988\n",
            "Epoch 2/100\n",
            "5983/5983 [==============================] - 11s 2ms/step - loss: 1.2203 - acc: 0.4560\n",
            "Epoch 3/100\n",
            "5983/5983 [==============================] - 11s 2ms/step - loss: 1.1383 - acc: 0.4964\n",
            "Epoch 4/100\n",
            "5983/5983 [==============================] - 11s 2ms/step - loss: 1.0801 - acc: 0.5325\n",
            "Epoch 5/100\n",
            "5983/5983 [==============================] - 11s 2ms/step - loss: 1.0294 - acc: 0.5679\n",
            "Epoch 6/100\n",
            "5983/5983 [==============================] - 11s 2ms/step - loss: 0.9583 - acc: 0.6064\n",
            "Epoch 7/100\n",
            "5983/5983 [==============================] - 11s 2ms/step - loss: 0.8913 - acc: 0.6386\n",
            "Epoch 8/100\n",
            "5983/5983 [==============================] - 11s 2ms/step - loss: 0.8105 - acc: 0.6747\n",
            "Epoch 9/100\n",
            "5983/5983 [==============================] - 11s 2ms/step - loss: 0.7070 - acc: 0.7197\n",
            "Epoch 10/100\n",
            "5983/5983 [==============================] - 11s 2ms/step - loss: 0.6221 - acc: 0.7592\n",
            "Epoch 11/100\n",
            "5983/5983 [==============================] - 11s 2ms/step - loss: 0.5333 - acc: 0.8003\n",
            "Epoch 12/100\n",
            "5983/5983 [==============================] - 11s 2ms/step - loss: 0.4620 - acc: 0.8293\n",
            "Epoch 13/100\n",
            "5983/5983 [==============================] - 11s 2ms/step - loss: 0.4027 - acc: 0.8534\n",
            "Epoch 14/100\n",
            "5983/5983 [==============================] - 11s 2ms/step - loss: 0.3627 - acc: 0.8680\n",
            "Epoch 15/100\n",
            "5983/5983 [==============================] - 11s 2ms/step - loss: 0.3282 - acc: 0.8807\n",
            "Epoch 16/100\n",
            "5983/5983 [==============================] - 11s 2ms/step - loss: 0.2925 - acc: 0.8912\n",
            "Epoch 17/100\n",
            "5983/5983 [==============================] - 11s 2ms/step - loss: 0.2884 - acc: 0.8957\n",
            "Epoch 18/100\n",
            "5983/5983 [==============================] - 11s 2ms/step - loss: 0.2541 - acc: 0.9094\n",
            "Epoch 19/100\n",
            "5983/5983 [==============================] - 11s 2ms/step - loss: 0.2285 - acc: 0.9209\n",
            "Epoch 20/100\n",
            "5983/5983 [==============================] - 11s 2ms/step - loss: 0.2249 - acc: 0.9229\n",
            "Epoch 21/100\n",
            "5983/5983 [==============================] - 11s 2ms/step - loss: 0.2151 - acc: 0.9255\n",
            "Epoch 22/100\n",
            "5983/5983 [==============================] - 11s 2ms/step - loss: 0.1977 - acc: 0.9296\n",
            "Epoch 23/100\n",
            "5983/5983 [==============================] - 11s 2ms/step - loss: 0.1847 - acc: 0.9368\n",
            "Epoch 24/100\n",
            "5983/5983 [==============================] - 11s 2ms/step - loss: 0.1696 - acc: 0.9433\n",
            "Epoch 25/100\n",
            "5983/5983 [==============================] - 11s 2ms/step - loss: 0.1690 - acc: 0.9440\n",
            "Epoch 26/100\n",
            "5983/5983 [==============================] - 11s 2ms/step - loss: 0.1555 - acc: 0.9468\n",
            "Epoch 27/100\n",
            "5983/5983 [==============================] - 11s 2ms/step - loss: 0.1618 - acc: 0.9440\n",
            "Epoch 28/100\n",
            "5983/5983 [==============================] - 11s 2ms/step - loss: 0.1399 - acc: 0.9510\n",
            "Epoch 29/100\n",
            "5983/5983 [==============================] - 11s 2ms/step - loss: 0.1384 - acc: 0.9532\n",
            "Epoch 30/100\n",
            "5983/5983 [==============================] - 11s 2ms/step - loss: 0.1533 - acc: 0.9447\n",
            "Epoch 31/100\n",
            "5983/5983 [==============================] - 11s 2ms/step - loss: 0.1311 - acc: 0.9545\n",
            "Epoch 32/100\n",
            "5983/5983 [==============================] - 11s 2ms/step - loss: 0.1334 - acc: 0.9540\n",
            "Epoch 33/100\n",
            "5983/5983 [==============================] - 11s 2ms/step - loss: 0.1280 - acc: 0.9532\n",
            "Epoch 34/100\n",
            "5983/5983 [==============================] - 11s 2ms/step - loss: 0.1341 - acc: 0.9535\n",
            "Epoch 35/100\n",
            "5983/5983 [==============================] - 11s 2ms/step - loss: 0.1076 - acc: 0.9639\n",
            "Epoch 36/100\n",
            "5983/5983 [==============================] - 11s 2ms/step - loss: 0.1130 - acc: 0.9636\n",
            "Epoch 37/100\n",
            "5983/5983 [==============================] - 11s 2ms/step - loss: 0.1109 - acc: 0.9617\n",
            "Epoch 38/100\n",
            "5983/5983 [==============================] - 11s 2ms/step - loss: 0.1040 - acc: 0.9637\n",
            "Epoch 39/100\n",
            "5983/5983 [==============================] - 11s 2ms/step - loss: 0.1077 - acc: 0.9624\n",
            "Epoch 40/100\n",
            "5983/5983 [==============================] - 11s 2ms/step - loss: 0.0936 - acc: 0.9659\n",
            "Epoch 41/100\n",
            "5983/5983 [==============================] - 11s 2ms/step - loss: 0.1000 - acc: 0.9661\n",
            "Epoch 42/100\n",
            "5983/5983 [==============================] - 11s 2ms/step - loss: 0.1022 - acc: 0.9646\n",
            "Epoch 43/100\n",
            "5983/5983 [==============================] - 11s 2ms/step - loss: 0.0927 - acc: 0.9656\n",
            "Epoch 44/100\n",
            "5983/5983 [==============================] - 11s 2ms/step - loss: 0.1011 - acc: 0.9659\n",
            "Epoch 45/100\n",
            "5983/5983 [==============================] - 11s 2ms/step - loss: 0.0919 - acc: 0.9692\n",
            "Epoch 46/100\n",
            "5983/5983 [==============================] - 11s 2ms/step - loss: 0.0894 - acc: 0.9679\n",
            "Epoch 47/100\n",
            "5983/5983 [==============================] - 11s 2ms/step - loss: 0.0937 - acc: 0.9666\n",
            "Epoch 48/100\n",
            "5983/5983 [==============================] - 11s 2ms/step - loss: 0.0898 - acc: 0.9718\n",
            "Epoch 49/100\n",
            "5983/5983 [==============================] - 11s 2ms/step - loss: 0.0907 - acc: 0.9664\n",
            "Epoch 50/100\n",
            "5983/5983 [==============================] - 11s 2ms/step - loss: 0.0831 - acc: 0.9709\n",
            "Epoch 51/100\n",
            "5983/5983 [==============================] - 11s 2ms/step - loss: 0.0748 - acc: 0.9713\n",
            "Epoch 52/100\n",
            "5983/5983 [==============================] - 11s 2ms/step - loss: 0.0876 - acc: 0.9694\n",
            "Epoch 53/100\n",
            "5983/5983 [==============================] - 11s 2ms/step - loss: 0.0777 - acc: 0.9714\n",
            "Epoch 54/100\n",
            "5983/5983 [==============================] - 11s 2ms/step - loss: 0.0688 - acc: 0.9749\n",
            "Epoch 55/100\n",
            "5983/5983 [==============================] - 11s 2ms/step - loss: 0.0772 - acc: 0.9756\n",
            "Epoch 56/100\n",
            "5983/5983 [==============================] - 11s 2ms/step - loss: 0.0719 - acc: 0.9746\n",
            "Epoch 57/100\n",
            "5983/5983 [==============================] - 11s 2ms/step - loss: 0.0774 - acc: 0.9744\n",
            "Epoch 58/100\n",
            "5983/5983 [==============================] - 11s 2ms/step - loss: 0.0878 - acc: 0.9682\n",
            "Epoch 59/100\n",
            "5983/5983 [==============================] - 11s 2ms/step - loss: 0.0788 - acc: 0.9731\n",
            "Epoch 60/100\n",
            "5983/5983 [==============================] - 11s 2ms/step - loss: 0.0677 - acc: 0.9749\n",
            "Epoch 61/100\n",
            "5983/5983 [==============================] - 11s 2ms/step - loss: 0.0832 - acc: 0.9699\n",
            "Epoch 62/100\n",
            "5983/5983 [==============================] - 11s 2ms/step - loss: 0.0709 - acc: 0.9754\n",
            "Epoch 63/100\n",
            "5983/5983 [==============================] - 11s 2ms/step - loss: 0.0601 - acc: 0.9759\n",
            "Epoch 64/100\n",
            "5983/5983 [==============================] - 11s 2ms/step - loss: 0.0726 - acc: 0.9741\n",
            "Epoch 65/100\n",
            "5983/5983 [==============================] - 11s 2ms/step - loss: 0.0658 - acc: 0.9754\n",
            "Epoch 66/100\n",
            "5983/5983 [==============================] - 11s 2ms/step - loss: 0.0573 - acc: 0.9789\n",
            "Epoch 67/100\n",
            "5983/5983 [==============================] - 11s 2ms/step - loss: 0.0663 - acc: 0.9774\n",
            "Epoch 68/100\n",
            "5983/5983 [==============================] - 11s 2ms/step - loss: 0.0676 - acc: 0.9744\n",
            "Epoch 69/100\n",
            "5983/5983 [==============================] - 11s 2ms/step - loss: 0.0631 - acc: 0.9779\n",
            "Epoch 70/100\n",
            "5983/5983 [==============================] - 11s 2ms/step - loss: 0.0647 - acc: 0.9754\n",
            "Epoch 71/100\n",
            "5983/5983 [==============================] - 11s 2ms/step - loss: 0.0638 - acc: 0.9763\n",
            "Epoch 72/100\n",
            "5983/5983 [==============================] - 11s 2ms/step - loss: 0.0634 - acc: 0.9753\n",
            "Epoch 73/100\n",
            "5983/5983 [==============================] - 11s 2ms/step - loss: 0.0621 - acc: 0.9779\n",
            "Epoch 74/100\n",
            "5983/5983 [==============================] - 11s 2ms/step - loss: 0.0591 - acc: 0.9774\n",
            "Epoch 75/100\n",
            "5983/5983 [==============================] - 11s 2ms/step - loss: 0.0676 - acc: 0.9768\n",
            "Epoch 76/100\n",
            "5983/5983 [==============================] - 10s 2ms/step - loss: 0.0591 - acc: 0.9784\n",
            "Epoch 77/100\n",
            "5983/5983 [==============================] - 11s 2ms/step - loss: 0.0667 - acc: 0.9746\n",
            "Epoch 78/100\n",
            "5983/5983 [==============================] - 11s 2ms/step - loss: 0.0589 - acc: 0.9776\n",
            "Epoch 79/100\n",
            "5983/5983 [==============================] - 11s 2ms/step - loss: 0.0613 - acc: 0.9749\n",
            "Epoch 80/100\n",
            "5983/5983 [==============================] - 11s 2ms/step - loss: 0.0587 - acc: 0.9776\n",
            "Epoch 81/100\n",
            "5983/5983 [==============================] - 11s 2ms/step - loss: 0.0631 - acc: 0.9771\n",
            "Epoch 82/100\n",
            "5983/5983 [==============================] - 11s 2ms/step - loss: 0.0505 - acc: 0.9806\n",
            "Epoch 83/100\n",
            "5983/5983 [==============================] - 11s 2ms/step - loss: 0.0558 - acc: 0.9806\n",
            "Epoch 84/100\n",
            "5983/5983 [==============================] - 11s 2ms/step - loss: 0.0567 - acc: 0.9783\n",
            "Epoch 85/100\n",
            "5983/5983 [==============================] - 11s 2ms/step - loss: 0.0545 - acc: 0.9798\n",
            "Epoch 86/100\n",
            "5983/5983 [==============================] - 11s 2ms/step - loss: 0.0542 - acc: 0.9798\n",
            "Epoch 87/100\n",
            "5983/5983 [==============================] - 11s 2ms/step - loss: 0.0606 - acc: 0.9769\n",
            "Epoch 88/100\n",
            "5983/5983 [==============================] - 11s 2ms/step - loss: 0.0523 - acc: 0.9804\n",
            "Epoch 89/100\n",
            "5983/5983 [==============================] - 11s 2ms/step - loss: 0.0590 - acc: 0.9779\n",
            "Epoch 90/100\n",
            "5983/5983 [==============================] - 11s 2ms/step - loss: 0.0542 - acc: 0.9784\n",
            "Epoch 91/100\n",
            "5983/5983 [==============================] - 11s 2ms/step - loss: 0.0468 - acc: 0.9808\n",
            "Epoch 92/100\n",
            "5983/5983 [==============================] - 11s 2ms/step - loss: 0.0532 - acc: 0.9799\n",
            "Epoch 93/100\n",
            "5983/5983 [==============================] - 11s 2ms/step - loss: 0.0494 - acc: 0.9811\n",
            "Epoch 94/100\n",
            "5983/5983 [==============================] - 11s 2ms/step - loss: 0.0523 - acc: 0.9796\n",
            "Epoch 95/100\n",
            "5983/5983 [==============================] - 11s 2ms/step - loss: 0.0486 - acc: 0.9823\n",
            "Epoch 96/100\n",
            "5983/5983 [==============================] - 11s 2ms/step - loss: 0.0544 - acc: 0.9793\n",
            "Epoch 97/100\n",
            "5983/5983 [==============================] - 11s 2ms/step - loss: 0.0469 - acc: 0.9826\n",
            "Epoch 98/100\n",
            "5983/5983 [==============================] - 11s 2ms/step - loss: 0.0526 - acc: 0.9814\n",
            "Epoch 99/100\n",
            "5983/5983 [==============================] - 11s 2ms/step - loss: 0.0475 - acc: 0.9836\n",
            "Epoch 100/100\n",
            "5983/5983 [==============================] - 11s 2ms/step - loss: 0.0558 - acc: 0.9803\n"
          ],
          "name": "stdout"
        },
        {
          "output_type": "execute_result",
          "data": {
            "text/plain": [
              "<keras.callbacks.History at 0x7f72da658278>"
            ]
          },
          "metadata": {
            "tags": []
          },
          "execution_count": 79
        }
      ]
    },
    {
      "cell_type": "code",
      "metadata": {
        "id": "5fnYp2Wu0iBR",
        "colab_type": "code",
        "colab": {
          "base_uri": "https://localhost:8080/",
          "height": 34
        },
        "outputId": "4398c1b9-b630-4c7d-d488-e2a88171db23"
      },
      "source": [
        "predictions = model.predict_classes(testImages)\n",
        "predictions"
      ],
      "execution_count": 80,
      "outputs": [
        {
          "output_type": "execute_result",
          "data": {
            "text/plain": [
              "array([3, 3, 3, 3, ..., 4, 1, 2, 4])"
            ]
          },
          "metadata": {
            "tags": []
          },
          "execution_count": 80
        }
      ]
    },
    {
      "cell_type": "code",
      "metadata": {
        "id": "-oDfKbiY-yRU",
        "colab_type": "code",
        "colab": {
          "base_uri": "https://localhost:8080/",
          "height": 34
        },
        "outputId": "ca64095d-bf85-4e08-c03c-95eff382f599"
      },
      "source": [
        "predictions"
      ],
      "execution_count": 81,
      "outputs": [
        {
          "output_type": "execute_result",
          "data": {
            "text/plain": [
              "array([3, 3, 3, 3, ..., 4, 1, 2, 4])"
            ]
          },
          "metadata": {
            "tags": []
          },
          "execution_count": 81
        }
      ]
    },
    {
      "cell_type": "code",
      "metadata": {
        "id": "7A81NlX0-1s8",
        "colab_type": "code",
        "colab": {
          "base_uri": "https://localhost:8080/",
          "height": 206
        },
        "outputId": "c1f33611-c7ff-4cdd-ed43-c89f62d00458"
      },
      "source": [
        "test['Class']=predictions\n",
        "test.head()"
      ],
      "execution_count": 82,
      "outputs": [
        {
          "output_type": "execute_result",
          "data": {
            "text/html": [
              "<div>\n",
              "<style scoped>\n",
              "    .dataframe tbody tr th:only-of-type {\n",
              "        vertical-align: middle;\n",
              "    }\n",
              "\n",
              "    .dataframe tbody tr th {\n",
              "        vertical-align: top;\n",
              "    }\n",
              "\n",
              "    .dataframe thead th {\n",
              "        text-align: right;\n",
              "    }\n",
              "</style>\n",
              "<table border=\"1\" class=\"dataframe\">\n",
              "  <thead>\n",
              "    <tr style=\"text-align: right;\">\n",
              "      <th></th>\n",
              "      <th>Image</th>\n",
              "      <th>Class</th>\n",
              "    </tr>\n",
              "  </thead>\n",
              "  <tbody>\n",
              "    <tr>\n",
              "      <th>0</th>\n",
              "      <td>image6245.jpg</td>\n",
              "      <td>3</td>\n",
              "    </tr>\n",
              "    <tr>\n",
              "      <th>1</th>\n",
              "      <td>image10409.jpg</td>\n",
              "      <td>3</td>\n",
              "    </tr>\n",
              "    <tr>\n",
              "      <th>2</th>\n",
              "      <td>image8692.jpg</td>\n",
              "      <td>3</td>\n",
              "    </tr>\n",
              "    <tr>\n",
              "      <th>3</th>\n",
              "      <td>image10517.jpg</td>\n",
              "      <td>3</td>\n",
              "    </tr>\n",
              "    <tr>\n",
              "      <th>4</th>\n",
              "      <td>image2580.jpg</td>\n",
              "      <td>1</td>\n",
              "    </tr>\n",
              "  </tbody>\n",
              "</table>\n",
              "</div>"
            ],
            "text/plain": [
              "            Image  Class\n",
              "0   image6245.jpg      3\n",
              "1  image10409.jpg      3\n",
              "2   image8692.jpg      3\n",
              "3  image10517.jpg      3\n",
              "4   image2580.jpg      1"
            ]
          },
          "metadata": {
            "tags": []
          },
          "execution_count": 82
        }
      ]
    },
    {
      "cell_type": "code",
      "metadata": {
        "id": "iVFKjyQc-6Jn",
        "colab_type": "code",
        "colab": {
          "base_uri": "https://localhost:8080/",
          "height": 260
        },
        "outputId": "3cc67996-0c5f-40bd-fc86-3e465e8cd6db"
      },
      "source": [
        "test['Class'] = test['Class'].apply({1:'Attire',2:'Decorationandsignage',3:'Food',4:'misc'}.get)\n",
        "print(test)"
      ],
      "execution_count": 83,
      "outputs": [
        {
          "output_type": "stream",
          "text": [
            "               Image                 Class\n",
            "0      image6245.jpg                  Food\n",
            "1     image10409.jpg                  Food\n",
            "2      image8692.jpg                  Food\n",
            "3     image10517.jpg                  Food\n",
            "4      image2580.jpg                Attire\n",
            "...              ...                   ...\n",
            "3214   image4968.jpg                Attire\n",
            "3215   image6673.jpg                  misc\n",
            "3216   image3442.jpg                Attire\n",
            "3217   image8178.jpg  Decorationandsignage\n",
            "3218   image5367.jpg                  misc\n",
            "\n",
            "[3219 rows x 2 columns]\n"
          ],
          "name": "stdout"
        }
      ]
    },
    {
      "cell_type": "code",
      "metadata": {
        "id": "kViE5BWy_Ajb",
        "colab_type": "code",
        "colab": {}
      },
      "source": [
        "\n",
        "test.to_csv('submission1.csv', index=False)"
      ],
      "execution_count": 0,
      "outputs": []
    },
    {
      "cell_type": "code",
      "metadata": {
        "id": "pYGlWJmW_BE2",
        "colab_type": "code",
        "colab": {
          "base_uri": "https://localhost:8080/",
          "height": 104
        },
        "outputId": "5370aec0-1250-4754-830a-5475294581fa"
      },
      "source": [
        "test['Class'].value_counts()"
      ],
      "execution_count": 85,
      "outputs": [
        {
          "output_type": "execute_result",
          "data": {
            "text/plain": [
              "Attire                  1139\n",
              "Food                    1133\n",
              "misc                     529\n",
              "Decorationandsignage     418\n",
              "Name: Class, dtype: int64"
            ]
          },
          "metadata": {
            "tags": []
          },
          "execution_count": 85
        }
      ]
    },
    {
      "cell_type": "code",
      "metadata": {
        "id": "5uFv6bCB_Bei",
        "colab_type": "code",
        "colab": {}
      },
      "source": [
        ""
      ],
      "execution_count": 0,
      "outputs": []
    },
    {
      "cell_type": "code",
      "metadata": {
        "id": "Itnm9xgx_Bzh",
        "colab_type": "code",
        "colab": {}
      },
      "source": [
        ""
      ],
      "execution_count": 0,
      "outputs": []
    }
  ]
}
